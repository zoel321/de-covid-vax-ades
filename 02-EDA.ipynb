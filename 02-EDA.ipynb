{
 "cells": [
  {
   "cell_type": "markdown",
   "id": "f0cb29e0",
   "metadata": {},
   "source": [
    "## From Database back into df (querying, etc.)\n",
    "\n",
    "querying, EDA (groupbys, etc)\n",
    "https://docs.sqlalchemy.org/en/14/tutorial/data.html"
   ]
  },
  {
   "cell_type": "code",
   "execution_count": 1,
   "id": "c14f8b05",
   "metadata": {},
   "outputs": [],
   "source": [
    "from sqlalchemy import create_engine\n",
    "import pandas as pd"
   ]
  },
  {
   "cell_type": "code",
   "execution_count": 2,
   "id": "1096a0af",
   "metadata": {},
   "outputs": [
    {
     "data": {
      "text/plain": [
       "Engine(sqlite:///vaers.db)"
      ]
     },
     "execution_count": 2,
     "metadata": {},
     "output_type": "execute_result"
    }
   ],
   "source": [
    "engine = create_engine(\"sqlite:///vaers.db\")\n",
    "engine"
   ]
  },
  {
   "cell_type": "code",
   "execution_count": 3,
   "id": "53d0e001",
   "metadata": {},
   "outputs": [
    {
     "data": {
      "text/plain": [
       "['data', 'symptoms', 'vax']"
      ]
     },
     "execution_count": 3,
     "metadata": {},
     "output_type": "execute_result"
    }
   ],
   "source": [
    "all_tables = engine.table_names()\n",
    "all_tables"
   ]
  },
  {
   "cell_type": "markdown",
   "id": "8c325608",
   "metadata": {},
   "source": [
    "### SQL statements"
   ]
  },
  {
   "cell_type": "markdown",
   "id": "72870087",
   "metadata": {},
   "source": [
    "https://vaers.hhs.gov/docs/VAERSDataUseGuide_en_September2021.pdf"
   ]
  },
  {
   "cell_type": "code",
   "execution_count": 4,
   "id": "a85c55fd",
   "metadata": {},
   "outputs": [],
   "source": [
    "s1 = '''\n",
    "SELECT DISTINCT(vax_type) FROM vax\n",
    "ORDER BY vax_type\n",
    "'''"
   ]
  },
  {
   "cell_type": "code",
   "execution_count": 28,
   "id": "e5961401",
   "metadata": {},
   "outputs": [],
   "source": [
    "s2 = '''\n",
    "SELECT v.vax_manu, v.vax_dose_series, d.v_adminby, d.numdays, d.age_yrs, v.vaers_id\n",
    "FROM vax v \n",
    "INNER JOIN data d \n",
    "ON v.vaers_id = d.vaers_id\n",
    "WHERE v.vax_type = 'COVID19';\n",
    "'''"
   ]
  },
  {
   "cell_type": "code",
   "execution_count": 48,
   "id": "bb2a2c95",
   "metadata": {},
   "outputs": [],
   "source": [
    "df1 = pd.read_sql(s2, engine)\n"
   ]
  },
  {
   "cell_type": "code",
   "execution_count": 49,
   "id": "7bf565c5",
   "metadata": {
    "scrolled": true
   },
   "outputs": [
    {
     "name": "stdout",
     "output_type": "stream",
     "text": [
      "<class 'pandas.core.frame.DataFrame'>\n",
      "RangeIndex: 811629 entries, 0 to 811628\n",
      "Data columns (total 6 columns):\n",
      " #   Column           Non-Null Count   Dtype  \n",
      "---  ------           --------------   -----  \n",
      " 0   vax_manu         811629 non-null  object \n",
      " 1   vax_dose_series  808680 non-null  object \n",
      " 2   v_adminby        811629 non-null  object \n",
      " 3   numdays          718031 non-null  float64\n",
      " 4   age_yrs          735131 non-null  float64\n",
      " 5   vaers_id         811629 non-null  int64  \n",
      "dtypes: float64(2), int64(1), object(3)\n",
      "memory usage: 37.2+ MB\n"
     ]
    }
   ],
   "source": [
    "df1.info()"
   ]
  },
  {
   "cell_type": "code",
   "execution_count": 50,
   "id": "91cc7674",
   "metadata": {
    "scrolled": true
   },
   "outputs": [
    {
     "data": {
      "text/html": [
       "<div>\n",
       "<style scoped>\n",
       "    .dataframe tbody tr th:only-of-type {\n",
       "        vertical-align: middle;\n",
       "    }\n",
       "\n",
       "    .dataframe tbody tr th {\n",
       "        vertical-align: top;\n",
       "    }\n",
       "\n",
       "    .dataframe thead th {\n",
       "        text-align: right;\n",
       "    }\n",
       "</style>\n",
       "<table border=\"1\" class=\"dataframe\">\n",
       "  <thead>\n",
       "    <tr style=\"text-align: right;\">\n",
       "      <th></th>\n",
       "      <th>vax_manu</th>\n",
       "      <th>vax_dose_series</th>\n",
       "      <th>v_adminby</th>\n",
       "      <th>numdays</th>\n",
       "      <th>age_yrs</th>\n",
       "      <th>vaers_id</th>\n",
       "    </tr>\n",
       "  </thead>\n",
       "  <tbody>\n",
       "    <tr>\n",
       "      <th>0</th>\n",
       "      <td>PFIZER\\BIONTECH</td>\n",
       "      <td>1</td>\n",
       "      <td>PVT</td>\n",
       "      <td>0.0</td>\n",
       "      <td>56.0</td>\n",
       "      <td>902418</td>\n",
       "    </tr>\n",
       "    <tr>\n",
       "      <th>1</th>\n",
       "      <td>PFIZER\\BIONTECH</td>\n",
       "      <td>1</td>\n",
       "      <td>PVT</td>\n",
       "      <td>0.0</td>\n",
       "      <td>35.0</td>\n",
       "      <td>902440</td>\n",
       "    </tr>\n",
       "    <tr>\n",
       "      <th>2</th>\n",
       "      <td>PFIZER\\BIONTECH</td>\n",
       "      <td>1</td>\n",
       "      <td>OTH</td>\n",
       "      <td>0.0</td>\n",
       "      <td>55.0</td>\n",
       "      <td>902446</td>\n",
       "    </tr>\n",
       "    <tr>\n",
       "      <th>3</th>\n",
       "      <td>PFIZER\\BIONTECH</td>\n",
       "      <td>UNK</td>\n",
       "      <td>PVT</td>\n",
       "      <td>0.0</td>\n",
       "      <td>42.0</td>\n",
       "      <td>902464</td>\n",
       "    </tr>\n",
       "    <tr>\n",
       "      <th>4</th>\n",
       "      <td>PFIZER\\BIONTECH</td>\n",
       "      <td>1</td>\n",
       "      <td>PUB</td>\n",
       "      <td>0.0</td>\n",
       "      <td>60.0</td>\n",
       "      <td>902465</td>\n",
       "    </tr>\n",
       "  </tbody>\n",
       "</table>\n",
       "</div>"
      ],
      "text/plain": [
       "          vax_manu vax_dose_series v_adminby  numdays  age_yrs  vaers_id\n",
       "0  PFIZER\\BIONTECH               1       PVT      0.0     56.0    902418\n",
       "1  PFIZER\\BIONTECH               1       PVT      0.0     35.0    902440\n",
       "2  PFIZER\\BIONTECH               1       OTH      0.0     55.0    902446\n",
       "3  PFIZER\\BIONTECH             UNK       PVT      0.0     42.0    902464\n",
       "4  PFIZER\\BIONTECH               1       PUB      0.0     60.0    902465"
      ]
     },
     "execution_count": 50,
     "metadata": {},
     "output_type": "execute_result"
    }
   ],
   "source": [
    "df1.head()"
   ]
  },
  {
   "cell_type": "code",
   "execution_count": 51,
   "id": "6f5781c7",
   "metadata": {
    "scrolled": true
   },
   "outputs": [
    {
     "name": "stdout",
     "output_type": "stream",
     "text": [
      "<class 'pandas.core.frame.DataFrame'>\n",
      "RangeIndex: 811629 entries, 0 to 811628\n",
      "Data columns (total 6 columns):\n",
      " #   Column           Non-Null Count   Dtype  \n",
      "---  ------           --------------   -----  \n",
      " 0   vax_manu         811629 non-null  object \n",
      " 1   vax_dose_series  808680 non-null  object \n",
      " 2   v_adminby        811629 non-null  object \n",
      " 3   numdays          718031 non-null  float64\n",
      " 4   age_yrs          735131 non-null  float64\n",
      " 5   vaers_id         811629 non-null  int64  \n",
      "dtypes: float64(2), int64(1), object(3)\n",
      "memory usage: 37.2+ MB\n"
     ]
    }
   ],
   "source": [
    "df1.info()"
   ]
  },
  {
   "cell_type": "code",
   "execution_count": 52,
   "id": "6c6be5a8",
   "metadata": {},
   "outputs": [],
   "source": [
    "#dropping nulls\n",
    "df1 = df1.dropna(subset = ['vax_dose_series', 'v_adminby', 'numdays', 'age_yrs'])"
   ]
  },
  {
   "cell_type": "code",
   "execution_count": 53,
   "id": "c3a74bc9",
   "metadata": {},
   "outputs": [
    {
     "data": {
      "text/plain": [
       "PVT    175303\n",
       "PHM    152990\n",
       "UNK    150065\n",
       "OTH     81239\n",
       "PUB     76136\n",
       "WRK     25477\n",
       "SEN     10960\n",
       "SCH     10770\n",
       "MIL      9067\n",
       "Name: v_adminby, dtype: int64"
      ]
     },
     "execution_count": 53,
     "metadata": {},
     "output_type": "execute_result"
    }
   ],
   "source": [
    "df1.v_adminby.value_counts()"
   ]
  },
  {
   "cell_type": "code",
   "execution_count": 54,
   "id": "1ee171d6",
   "metadata": {},
   "outputs": [],
   "source": [
    "dict_location = {'PVT': 'Private', 'PHM': 'Pharmacy', 'MIL': 'Military', 'OTH': 'Other', 'PUB': 'Public', 'WRK': 'Workplace Clinic', 'UNK': 'Unknown', 'OTH': 'Other', 'SEN': 'Nursing Home', 'SCH': 'School'}"
   ]
  },
  {
   "cell_type": "code",
   "execution_count": 55,
   "id": "338f8986",
   "metadata": {
    "scrolled": true
   },
   "outputs": [],
   "source": [
    "df1.replace({'v_adminby': dict_location}, inplace=True)"
   ]
  },
  {
   "cell_type": "code",
   "execution_count": 56,
   "id": "edc5cb14",
   "metadata": {},
   "outputs": [
    {
     "data": {
      "text/plain": [
       "1      335737\n",
       "2      210814\n",
       "UNK     92444\n",
       "3       51618\n",
       "4         782\n",
       "7+        309\n",
       "5         194\n",
       "6         109\n",
       "Name: vax_dose_series, dtype: int64"
      ]
     },
     "execution_count": 56,
     "metadata": {},
     "output_type": "execute_result"
    }
   ],
   "source": [
    "df1.vax_dose_series.value_counts()"
   ]
  },
  {
   "cell_type": "code",
   "execution_count": 57,
   "id": "4a86e76b",
   "metadata": {},
   "outputs": [],
   "source": [
    "def group_multdoses(dose):\n",
    "    if dose in ['5','6','7+']:\n",
    "        dose = '5+'\n",
    "    return dose"
   ]
  },
  {
   "cell_type": "code",
   "execution_count": 58,
   "id": "a559e8ef",
   "metadata": {},
   "outputs": [],
   "source": [
    "df1.vax_dose_series = df1.vax_dose_series.apply(lambda x: group_multdoses(x))"
   ]
  },
  {
   "cell_type": "code",
   "execution_count": 60,
   "id": "c8b1a314",
   "metadata": {},
   "outputs": [
    {
     "data": {
      "text/plain": [
       "1      335737\n",
       "2      210814\n",
       "UNK     92444\n",
       "3       51618\n",
       "4         782\n",
       "5+        612\n",
       "Name: vax_dose_series, dtype: int64"
      ]
     },
     "execution_count": 60,
     "metadata": {},
     "output_type": "execute_result"
    }
   ],
   "source": [
    "df1.vax_dose_series.value_counts()"
   ]
  },
  {
   "cell_type": "code",
   "execution_count": 61,
   "id": "18b140e8",
   "metadata": {},
   "outputs": [],
   "source": [
    "df1.to_pickle('df1.pkl')"
   ]
  },
  {
   "cell_type": "code",
   "execution_count": 62,
   "id": "1ecc7d71",
   "metadata": {
    "scrolled": true
   },
   "outputs": [
    {
     "data": {
      "text/html": [
       "<div>\n",
       "<style scoped>\n",
       "    .dataframe tbody tr th:only-of-type {\n",
       "        vertical-align: middle;\n",
       "    }\n",
       "\n",
       "    .dataframe tbody tr th {\n",
       "        vertical-align: top;\n",
       "    }\n",
       "\n",
       "    .dataframe thead th {\n",
       "        text-align: right;\n",
       "    }\n",
       "</style>\n",
       "<table border=\"1\" class=\"dataframe\">\n",
       "  <thead>\n",
       "    <tr style=\"text-align: right;\">\n",
       "      <th></th>\n",
       "      <th>vax_manu</th>\n",
       "      <th>vax_dose_series</th>\n",
       "      <th>v_adminby</th>\n",
       "      <th>numdays</th>\n",
       "      <th>age_yrs</th>\n",
       "      <th>vaers_id</th>\n",
       "    </tr>\n",
       "  </thead>\n",
       "  <tbody>\n",
       "    <tr>\n",
       "      <th>0</th>\n",
       "      <td>PFIZER\\BIONTECH</td>\n",
       "      <td>1</td>\n",
       "      <td>Private</td>\n",
       "      <td>0.0</td>\n",
       "      <td>56.0</td>\n",
       "      <td>902418</td>\n",
       "    </tr>\n",
       "    <tr>\n",
       "      <th>1</th>\n",
       "      <td>PFIZER\\BIONTECH</td>\n",
       "      <td>1</td>\n",
       "      <td>Private</td>\n",
       "      <td>0.0</td>\n",
       "      <td>35.0</td>\n",
       "      <td>902440</td>\n",
       "    </tr>\n",
       "    <tr>\n",
       "      <th>2</th>\n",
       "      <td>PFIZER\\BIONTECH</td>\n",
       "      <td>1</td>\n",
       "      <td>Other</td>\n",
       "      <td>0.0</td>\n",
       "      <td>55.0</td>\n",
       "      <td>902446</td>\n",
       "    </tr>\n",
       "    <tr>\n",
       "      <th>3</th>\n",
       "      <td>PFIZER\\BIONTECH</td>\n",
       "      <td>UNK</td>\n",
       "      <td>Private</td>\n",
       "      <td>0.0</td>\n",
       "      <td>42.0</td>\n",
       "      <td>902464</td>\n",
       "    </tr>\n",
       "    <tr>\n",
       "      <th>4</th>\n",
       "      <td>PFIZER\\BIONTECH</td>\n",
       "      <td>1</td>\n",
       "      <td>Public</td>\n",
       "      <td>0.0</td>\n",
       "      <td>60.0</td>\n",
       "      <td>902465</td>\n",
       "    </tr>\n",
       "    <tr>\n",
       "      <th>5</th>\n",
       "      <td>PFIZER\\BIONTECH</td>\n",
       "      <td>1</td>\n",
       "      <td>Private</td>\n",
       "      <td>0.0</td>\n",
       "      <td>59.0</td>\n",
       "      <td>902468</td>\n",
       "    </tr>\n",
       "    <tr>\n",
       "      <th>6</th>\n",
       "      <td>PFIZER\\BIONTECH</td>\n",
       "      <td>1</td>\n",
       "      <td>Other</td>\n",
       "      <td>0.0</td>\n",
       "      <td>46.0</td>\n",
       "      <td>902479</td>\n",
       "    </tr>\n",
       "    <tr>\n",
       "      <th>7</th>\n",
       "      <td>PFIZER\\BIONTECH</td>\n",
       "      <td>1</td>\n",
       "      <td>Private</td>\n",
       "      <td>0.0</td>\n",
       "      <td>37.0</td>\n",
       "      <td>902490</td>\n",
       "    </tr>\n",
       "    <tr>\n",
       "      <th>8</th>\n",
       "      <td>PFIZER\\BIONTECH</td>\n",
       "      <td>1</td>\n",
       "      <td>Private</td>\n",
       "      <td>0.0</td>\n",
       "      <td>41.0</td>\n",
       "      <td>902491</td>\n",
       "    </tr>\n",
       "    <tr>\n",
       "      <th>9</th>\n",
       "      <td>PFIZER\\BIONTECH</td>\n",
       "      <td>1</td>\n",
       "      <td>Public</td>\n",
       "      <td>0.0</td>\n",
       "      <td>44.0</td>\n",
       "      <td>902492</td>\n",
       "    </tr>\n",
       "  </tbody>\n",
       "</table>\n",
       "</div>"
      ],
      "text/plain": [
       "          vax_manu vax_dose_series v_adminby  numdays  age_yrs  vaers_id\n",
       "0  PFIZER\\BIONTECH               1   Private      0.0     56.0    902418\n",
       "1  PFIZER\\BIONTECH               1   Private      0.0     35.0    902440\n",
       "2  PFIZER\\BIONTECH               1     Other      0.0     55.0    902446\n",
       "3  PFIZER\\BIONTECH             UNK   Private      0.0     42.0    902464\n",
       "4  PFIZER\\BIONTECH               1    Public      0.0     60.0    902465\n",
       "5  PFIZER\\BIONTECH               1   Private      0.0     59.0    902468\n",
       "6  PFIZER\\BIONTECH               1     Other      0.0     46.0    902479\n",
       "7  PFIZER\\BIONTECH               1   Private      0.0     37.0    902490\n",
       "8  PFIZER\\BIONTECH               1   Private      0.0     41.0    902491\n",
       "9  PFIZER\\BIONTECH               1    Public      0.0     44.0    902492"
      ]
     },
     "execution_count": 62,
     "metadata": {},
     "output_type": "execute_result"
    }
   ],
   "source": [
    "df1[:10]"
   ]
  },
  {
   "cell_type": "code",
   "execution_count": 65,
   "id": "8ce8fa5f",
   "metadata": {},
   "outputs": [],
   "source": [
    "import numpy as np"
   ]
  },
  {
   "cell_type": "markdown",
   "id": "23c241ff",
   "metadata": {},
   "source": [
    "pandas sources:\n",
    "https://www.shanelynn.ie/summarising-aggregation-and-grouping-data-in-python-pandas/\n",
    "https://proinsias.github.io/til/Pandas-Named-Aggregation/"
   ]
  },
  {
   "cell_type": "code",
   "execution_count": 71,
   "id": "8788afe9",
   "metadata": {},
   "outputs": [],
   "source": [
    "# summary stats\n",
    "\n",
    "summary_df1 = df1.groupby(['vax_manu', 'vax_dose_series', 'v_adminby']).agg(\n",
    "    avg_onset_days = pd.NamedAgg(column='numdays', aggfunc='mean'),\n",
    "    std_onset_days= pd.NamedAgg(column='numdays', aggfunc='std'),\n",
    "    avg_age = pd.NamedAgg(column='age_yrs', aggfunc='mean'),\n",
    "    std_age = pd.NamedAgg(column='age_yrs', aggfunc='std'),\n",
    "    cases = pd.NamedAgg(column='vaers_id', aggfunc='count')).reset_index()\n"
   ]
  },
  {
   "cell_type": "code",
   "execution_count": 75,
   "id": "3d7d5523",
   "metadata": {},
   "outputs": [],
   "source": [
    "summary_df1.to_pickle('summary_df1.pkl')"
   ]
  },
  {
   "cell_type": "code",
   "execution_count": 77,
   "id": "18cfbf79",
   "metadata": {},
   "outputs": [
    {
     "data": {
      "text/plain": [
       "array(['JANSSEN', 'MODERNA', 'PFIZER\\\\BIONTECH', 'UNKNOWN MANUFACTURER'],\n",
       "      dtype=object)"
      ]
     },
     "execution_count": 77,
     "metadata": {},
     "output_type": "execute_result"
    }
   ],
   "source": [
    "summary_df1.vax_manu.unique()"
   ]
  },
  {
   "cell_type": "code",
   "execution_count": 69,
   "id": "7ac6268d",
   "metadata": {},
   "outputs": [],
   "source": [
    "#query for all the side effects\n",
    "\n",
    "\n",
    "#back to sql"
   ]
  },
  {
   "cell_type": "code",
   "execution_count": null,
   "id": "d144753e",
   "metadata": {},
   "outputs": [],
   "source": []
  },
  {
   "cell_type": "code",
   "execution_count": null,
   "id": "9c66e850",
   "metadata": {},
   "outputs": [],
   "source": []
  },
  {
   "cell_type": "markdown",
   "id": "58ea396b",
   "metadata": {},
   "source": [
    "## Cleaned dataframe back to SQL as table (for easier processing/visualizing later, also in case steps need to be changed later):\n",
    "https://datatofish.com/pandas-dataframe-to-sql/"
   ]
  },
  {
   "cell_type": "code",
   "execution_count": null,
   "id": "8f373b02",
   "metadata": {},
   "outputs": [],
   "source": [
    "#finding average onset, age, and case number -> use pandas \n",
    "\n",
    "s2 = '''\n",
    "SELECT v.vax_manu, v.vax_dose_series, d.v_adminby, AVG(d.numdays) AS avg_onset_interval, AVG(d.age_yrs) as avg_age, COUNT(DISTINCT(v.vaers_id)) AS cases\n",
    "FROM vax v \n",
    "INNER JOIN data d \n",
    "ON v.vaers_id = d.vaers_id\n",
    "WHERE v.vax_type = 'COVID19'\n",
    "GROUP BY v.vax_manu, v.vax_dose_series, d.v_adminby\n",
    "'''"
   ]
  },
  {
   "cell_type": "code",
   "execution_count": null,
   "id": "1539071c",
   "metadata": {},
   "outputs": [],
   "source": [
    "df = pd.read_sql(s2, engine)"
   ]
  }
 ],
 "metadata": {
  "kernelspec": {
   "display_name": "Python [conda env:metis] *",
   "language": "python",
   "name": "conda-env-metis-py"
  },
  "language_info": {
   "codemirror_mode": {
    "name": "ipython",
    "version": 3
   },
   "file_extension": ".py",
   "mimetype": "text/x-python",
   "name": "python",
   "nbconvert_exporter": "python",
   "pygments_lexer": "ipython3",
   "version": "3.9.7"
  }
 },
 "nbformat": 4,
 "nbformat_minor": 5
}
