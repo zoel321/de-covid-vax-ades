{
 "cells": [
  {
   "cell_type": "code",
   "execution_count": 70,
   "id": "82a794e3",
   "metadata": {},
   "outputs": [],
   "source": [
    "import pandas as pd\n",
    "import csv\n",
    "\n",
    "from sqlalchemy import create_engine\n",
    "from sqlalchemy import delete"
   ]
  },
  {
   "cell_type": "code",
   "execution_count": 71,
   "id": "f2f27427",
   "metadata": {},
   "outputs": [],
   "source": [
    "from datetime import datetime"
   ]
  },
  {
   "cell_type": "code",
   "execution_count": 72,
   "id": "71d43008",
   "metadata": {},
   "outputs": [],
   "source": [
    "import sqlite3\n",
    "import os\n",
    "import glob"
   ]
  },
  {
   "cell_type": "markdown",
   "id": "f4610fb6",
   "metadata": {},
   "source": [
    "## Getting data from CSVs to DB"
   ]
  },
  {
   "cell_type": "code",
   "execution_count": null,
   "id": "fd08f2ab",
   "metadata": {
    "scrolled": true
   },
   "outputs": [],
   "source": [
    "sample2020 = pd.read_csv('./VAERS-data/2020VAERSDATA/2020VAERSDATA.csv', encoding_errors = 'ignore', low_memory=False)"
   ]
  },
  {
   "cell_type": "code",
   "execution_count": null,
   "id": "54f5e8c0",
   "metadata": {
    "scrolled": false
   },
   "outputs": [],
   "source": [
    "sample2020.head()"
   ]
  },
  {
   "cell_type": "markdown",
   "id": "49e5506d",
   "metadata": {},
   "source": [
    "https://github.com/kevinchiv/Predicting-Kickstarter-Success/blob/master/00%20-%20PostgreSQL%20Through%20Jupyter.ipynb\n",
    "https://www.w3schools.com/sql/sql_datatypes.asp\n",
    "https://datatofish.com/pandas-dataframe-to-sql/\n",
    "https://datatofish.com/create-database-python-using-sqlite3/\n",
    "https://dev.mysql.com/doc/connector-python/en/connector-python-api-mysqlcursor-execute.html\n",
    "https://chartio.com/resources/tutorials/how-to-insert-if-row-does-not-exist-upsert-in-mysql/"
   ]
  },
  {
   "cell_type": "code",
   "execution_count": 73,
   "id": "30e4d180",
   "metadata": {},
   "outputs": [],
   "source": [
    "def new_table_statement(df, table_name):\n",
    "    \n",
    "    column_names = df.columns.str.strip()\n",
    "    datatypes = df.dtypes.values\n",
    "    \n",
    "    statement = 'CREATE TABLE IF NOT EXISTS ' + table_name + ' (\\n'\n",
    "    \n",
    "    for idx, column_name in enumerate(column_names):\n",
    "        dtype = datatypes[idx]\n",
    "        statement += column_name.lower()\n",
    "        if dtype == 'float64':\n",
    "            statement += ' DECIMAL'\n",
    "        elif dtype =='int64':\n",
    "            statement += ' INTEGER'\n",
    "        elif dtype == 'O':\n",
    "            statement += ' VARCHAR'\n",
    "        #denote primary key\n",
    "        #if column_name == 'VAERS_ID':\n",
    "            #statement += ' PRIMARY KEY'\n",
    "        if idx != len(column_names) - 1:\n",
    "            statement += \", \\n\"\n",
    "    statement += ');'\n",
    "    print(statement)\n",
    "    return statement"
   ]
  },
  {
   "cell_type": "code",
   "execution_count": 74,
   "id": "6e892012",
   "metadata": {
    "scrolled": true
   },
   "outputs": [
    {
     "name": "stdout",
     "output_type": "stream",
     "text": [
      "CREATE TABLE IF NOT EXISTS test (\n",
      "vaers_id INTEGER, \n",
      "recvdate VARCHAR, \n",
      "state VARCHAR, \n",
      "age_yrs DECIMAL, \n",
      "cage_yr DECIMAL, \n",
      "cage_mo DECIMAL, \n",
      "sex VARCHAR, \n",
      "rpt_date VARCHAR, \n",
      "symptom_text VARCHAR, \n",
      "died VARCHAR, \n",
      "datedied VARCHAR, \n",
      "l_threat VARCHAR, \n",
      "er_visit VARCHAR, \n",
      "hospital VARCHAR, \n",
      "hospdays DECIMAL, \n",
      "x_stay VARCHAR, \n",
      "disable VARCHAR, \n",
      "recovd VARCHAR, \n",
      "vax_date VARCHAR, \n",
      "onset_date VARCHAR, \n",
      "numdays DECIMAL, \n",
      "lab_data VARCHAR, \n",
      "v_adminby VARCHAR, \n",
      "v_fundby VARCHAR, \n",
      "other_meds VARCHAR, \n",
      "cur_ill VARCHAR, \n",
      "history VARCHAR, \n",
      "prior_vax VARCHAR, \n",
      "splttype VARCHAR, \n",
      "form_vers INTEGER, \n",
      "todays_date VARCHAR, \n",
      "birth_defect VARCHAR, \n",
      "ofc_visit VARCHAR, \n",
      "er_ed_visit VARCHAR, \n",
      "allergies VARCHAR);\n"
     ]
    },
    {
     "data": {
      "text/plain": [
       "'CREATE TABLE IF NOT EXISTS test (\\nvaers_id INTEGER, \\nrecvdate VARCHAR, \\nstate VARCHAR, \\nage_yrs DECIMAL, \\ncage_yr DECIMAL, \\ncage_mo DECIMAL, \\nsex VARCHAR, \\nrpt_date VARCHAR, \\nsymptom_text VARCHAR, \\ndied VARCHAR, \\ndatedied VARCHAR, \\nl_threat VARCHAR, \\ner_visit VARCHAR, \\nhospital VARCHAR, \\nhospdays DECIMAL, \\nx_stay VARCHAR, \\ndisable VARCHAR, \\nrecovd VARCHAR, \\nvax_date VARCHAR, \\nonset_date VARCHAR, \\nnumdays DECIMAL, \\nlab_data VARCHAR, \\nv_adminby VARCHAR, \\nv_fundby VARCHAR, \\nother_meds VARCHAR, \\ncur_ill VARCHAR, \\nhistory VARCHAR, \\nprior_vax VARCHAR, \\nsplttype VARCHAR, \\nform_vers INTEGER, \\ntodays_date VARCHAR, \\nbirth_defect VARCHAR, \\nofc_visit VARCHAR, \\ner_ed_visit VARCHAR, \\nallergies VARCHAR);'"
      ]
     },
     "execution_count": 74,
     "metadata": {},
     "output_type": "execute_result"
    }
   ],
   "source": [
    "new_table_statement(sample2020, 'test')"
   ]
  },
  {
   "cell_type": "code",
   "execution_count": 75,
   "id": "5719bbd8",
   "metadata": {},
   "outputs": [],
   "source": [
    "# https://stackoverflow.com/questions/9234560/find-all-csv-files-in-a-directory-using-python\n",
    "\n",
    "def find_csvs(year):\n",
    "    file_dir = os.path.abspath('.')\n",
    "    data_folder = 'VAERS-data'\n",
    "    data_year_folder = str(year) + 'VAERSData' #usual format\n",
    "    path = os.path.join(file_dir, data_folder, data_year_folder)\n",
    "    print(path)\n",
    "    csv_list = list(filter(lambda x: '.csv' in x, os.listdir(path)))\n",
    "    return csv_list, path"
   ]
  },
  {
   "cell_type": "code",
   "execution_count": 76,
   "id": "f55096b1",
   "metadata": {
    "scrolled": false
   },
   "outputs": [
    {
     "name": "stdout",
     "output_type": "stream",
     "text": [
      "/Users/zliao/Desktop/Data Sci/Metis/Module 5 - Data Engineering/Project/VAERS-data/2020VAERSData\n"
     ]
    },
    {
     "data": {
      "text/plain": [
       "(['2020VAERSVAX.csv', '2020VAERSSYMPTOMS.csv', '2020VAERSDATA.csv'],\n",
       " '/Users/zliao/Desktop/Data Sci/Metis/Module 5 - Data Engineering/Project/VAERS-data/2020VAERSData')"
      ]
     },
     "execution_count": 76,
     "metadata": {},
     "output_type": "execute_result"
    }
   ],
   "source": [
    "find_csvs(2020)"
   ]
  },
  {
   "cell_type": "code",
   "execution_count": 77,
   "id": "0f88e2a9",
   "metadata": {},
   "outputs": [],
   "source": [
    "def make_delete_statement(table_name, year):\n",
    "    statement = 'DELETE FROM ' + table_name + ' WHERE year = ' + str(year) + ';'\n",
    "    return statement"
   ]
  },
  {
   "cell_type": "code",
   "execution_count": 78,
   "id": "a100d68c",
   "metadata": {},
   "outputs": [
    {
     "data": {
      "text/plain": [
       "'DELETE FROM test WHERE year = 2021;'"
      ]
     },
     "execution_count": 78,
     "metadata": {},
     "output_type": "execute_result"
    }
   ],
   "source": [
    "make_delete_statement('test', 2021)"
   ]
  },
  {
   "cell_type": "code",
   "execution_count": 79,
   "id": "8e3e5897",
   "metadata": {},
   "outputs": [],
   "source": [
    "string = '2020VAERSVAX.csv'"
   ]
  },
  {
   "cell_type": "code",
   "execution_count": 80,
   "id": "49081d88",
   "metadata": {},
   "outputs": [
    {
     "name": "stdout",
     "output_type": "stream",
     "text": [
      "vax\n"
     ]
    }
   ],
   "source": [
    "string = string.split('/')[-1].split('.')[0]\n",
    "table_name = string[9:].lower() \n",
    "print(table_name)"
   ]
  },
  {
   "cell_type": "code",
   "execution_count": 89,
   "id": "47a1e48a",
   "metadata": {},
   "outputs": [],
   "source": [
    "#only current year gets updated \n",
    "\n",
    "def make_tables(connection, year):\n",
    "    this_year = datetime.now().year \n",
    "    csv_list, path = find_csvs(year)\n",
    "    c = conn.cursor()\n",
    "    for csv_file in csv_list:\n",
    "        csv_path = os.path.join(path, csv_file)\n",
    "        df = pd.read_csv(csv_path, encoding_errors = 'ignore', low_memory=False) \n",
    "        #making table name based on csv name \n",
    "        string = csv_file.split('/')[-1].split('.')[0]\n",
    "        table_name = string[9:].lower() \n",
    "        year = int(string[:4])\n",
    "        df['YEAR'] = year\n",
    "        \n",
    "        c.execute(new_table_statement(df, table_name))\n",
    "        conn.commit()\n",
    "        \n",
    "        if this_year == year:\n",
    "            #remove the rows with that year and replace with this updated csv data\n",
    "            delete_statement = make_delete_statement(table_name, year)\n",
    "            c.execute(delete_statement)\n",
    "            conn.commit()\n",
    "            print('Deleted any current data from given year!')\n",
    "            #then replace\n",
    "            df.to_sql(table_name, conn, if_exists = 'append', index=False)\n",
    "        else:\n",
    "            df.to_sql(table_name, conn, if_exists = 'append', index=False)\n",
    "        conn.commit()\n",
    "\n",
    "        print('Done! Inserted ' + table_name)\n",
    "    "
   ]
  },
  {
   "cell_type": "markdown",
   "id": "27906942",
   "metadata": {},
   "source": [
    "### Adding tables"
   ]
  },
  {
   "cell_type": "code",
   "execution_count": 95,
   "id": "071332e6",
   "metadata": {},
   "outputs": [],
   "source": [
    "conn = sqlite3.connect('vaers.db')"
   ]
  },
  {
   "cell_type": "code",
   "execution_count": 83,
   "id": "dede97a2",
   "metadata": {},
   "outputs": [
    {
     "name": "stdout",
     "output_type": "stream",
     "text": [
      "/Users/zliao/Desktop/Data Sci/Metis/Module 5 - Data Engineering/Project/VAERS-data/2020VAERSData\n",
      "CREATE TABLE IF NOT EXISTS vax (\n",
      "vaers_id INTEGER, \n",
      "vax_type VARCHAR, \n",
      "vax_manu VARCHAR, \n",
      "vax_lot VARCHAR, \n",
      "vax_dose_series VARCHAR, \n",
      "vax_route VARCHAR, \n",
      "vax_site VARCHAR, \n",
      "vax_name VARCHAR, \n",
      "year INTEGER);\n",
      "Done! Inserted vax\n",
      "CREATE TABLE IF NOT EXISTS symptoms (\n",
      "vaers_id INTEGER, \n",
      "symptom1 VARCHAR, \n",
      "symptomversion1 DECIMAL, \n",
      "symptom2 VARCHAR, \n",
      "symptomversion2 DECIMAL, \n",
      "symptom3 VARCHAR, \n",
      "symptomversion3 DECIMAL, \n",
      "symptom4 VARCHAR, \n",
      "symptomversion4 DECIMAL, \n",
      "symptom5 VARCHAR, \n",
      "symptomversion5 DECIMAL, \n",
      "year INTEGER);\n",
      "Done! Inserted symptoms\n",
      "CREATE TABLE IF NOT EXISTS data (\n",
      "vaers_id INTEGER, \n",
      "recvdate VARCHAR, \n",
      "state VARCHAR, \n",
      "age_yrs DECIMAL, \n",
      "cage_yr DECIMAL, \n",
      "cage_mo DECIMAL, \n",
      "sex VARCHAR, \n",
      "rpt_date VARCHAR, \n",
      "symptom_text VARCHAR, \n",
      "died VARCHAR, \n",
      "datedied VARCHAR, \n",
      "l_threat VARCHAR, \n",
      "er_visit VARCHAR, \n",
      "hospital VARCHAR, \n",
      "hospdays DECIMAL, \n",
      "x_stay VARCHAR, \n",
      "disable VARCHAR, \n",
      "recovd VARCHAR, \n",
      "vax_date VARCHAR, \n",
      "onset_date VARCHAR, \n",
      "numdays DECIMAL, \n",
      "lab_data VARCHAR, \n",
      "v_adminby VARCHAR, \n",
      "v_fundby VARCHAR, \n",
      "other_meds VARCHAR, \n",
      "cur_ill VARCHAR, \n",
      "history VARCHAR, \n",
      "prior_vax VARCHAR, \n",
      "splttype VARCHAR, \n",
      "form_vers INTEGER, \n",
      "todays_date VARCHAR, \n",
      "birth_defect VARCHAR, \n",
      "ofc_visit VARCHAR, \n",
      "er_ed_visit VARCHAR, \n",
      "allergies VARCHAR, \n",
      "year INTEGER);\n",
      "Done! Inserted data\n"
     ]
    }
   ],
   "source": [
    "make_tables(conn, 2020)"
   ]
  },
  {
   "cell_type": "code",
   "execution_count": 87,
   "id": "a452890b",
   "metadata": {
    "scrolled": true
   },
   "outputs": [
    {
     "name": "stdout",
     "output_type": "stream",
     "text": [
      "/Users/zliao/Desktop/Data Sci/Metis/Module 5 - Data Engineering/Project/VAERS-data/2021VAERSData\n",
      "CREATE TABLE IF NOT EXISTS vax (\n",
      "vaers_id INTEGER, \n",
      "vax_type VARCHAR, \n",
      "vax_manu VARCHAR, \n",
      "vax_lot VARCHAR, \n",
      "vax_dose_series VARCHAR, \n",
      "vax_route VARCHAR, \n",
      "vax_site VARCHAR, \n",
      "vax_name VARCHAR, \n",
      "year INTEGER);\n",
      "Done! Inserted vax\n",
      "CREATE TABLE IF NOT EXISTS data (\n",
      "vaers_id INTEGER, \n",
      "recvdate VARCHAR, \n",
      "state VARCHAR, \n",
      "age_yrs DECIMAL, \n",
      "cage_yr DECIMAL, \n",
      "cage_mo DECIMAL, \n",
      "sex VARCHAR, \n",
      "rpt_date VARCHAR, \n",
      "symptom_text VARCHAR, \n",
      "died VARCHAR, \n",
      "datedied VARCHAR, \n",
      "l_threat VARCHAR, \n",
      "er_visit VARCHAR, \n",
      "hospital VARCHAR, \n",
      "hospdays DECIMAL, \n",
      "x_stay VARCHAR, \n",
      "disable VARCHAR, \n",
      "recovd VARCHAR, \n",
      "vax_date VARCHAR, \n",
      "onset_date VARCHAR, \n",
      "numdays DECIMAL, \n",
      "lab_data VARCHAR, \n",
      "v_adminby VARCHAR, \n",
      "v_fundby VARCHAR, \n",
      "other_meds VARCHAR, \n",
      "cur_ill VARCHAR, \n",
      "history VARCHAR, \n",
      "prior_vax VARCHAR, \n",
      "splttype VARCHAR, \n",
      "form_vers INTEGER, \n",
      "todays_date VARCHAR, \n",
      "birth_defect VARCHAR, \n",
      "ofc_visit VARCHAR, \n",
      "er_ed_visit VARCHAR, \n",
      "allergies VARCHAR, \n",
      "year INTEGER);\n",
      "Done! Inserted data\n",
      "CREATE TABLE IF NOT EXISTS symptoms (\n",
      "vaers_id INTEGER, \n",
      "symptom1 VARCHAR, \n",
      "symptomversion1 DECIMAL, \n",
      "symptom2 VARCHAR, \n",
      "symptomversion2 DECIMAL, \n",
      "symptom3 VARCHAR, \n",
      "symptomversion3 DECIMAL, \n",
      "symptom4 VARCHAR, \n",
      "symptomversion4 DECIMAL, \n",
      "symptom5 VARCHAR, \n",
      "symptomversion5 DECIMAL, \n",
      "year INTEGER);\n",
      "Done! Inserted symptoms\n"
     ]
    }
   ],
   "source": [
    "make_tables(conn, 2021)"
   ]
  },
  {
   "cell_type": "code",
   "execution_count": 96,
   "id": "06b03a58",
   "metadata": {
    "scrolled": true
   },
   "outputs": [
    {
     "name": "stdout",
     "output_type": "stream",
     "text": [
      "/Users/zliao/Desktop/Data Sci/Metis/Module 5 - Data Engineering/Project/VAERS-data/2022VAERSData\n",
      "CREATE TABLE IF NOT EXISTS data (\n",
      "vaers_id INTEGER, \n",
      "recvdate VARCHAR, \n",
      "state VARCHAR, \n",
      "age_yrs DECIMAL, \n",
      "cage_yr DECIMAL, \n",
      "cage_mo DECIMAL, \n",
      "sex VARCHAR, \n",
      "rpt_date VARCHAR, \n",
      "symptom_text VARCHAR, \n",
      "died VARCHAR, \n",
      "datedied VARCHAR, \n",
      "l_threat VARCHAR, \n",
      "er_visit VARCHAR, \n",
      "hospital VARCHAR, \n",
      "hospdays DECIMAL, \n",
      "x_stay VARCHAR, \n",
      "disable VARCHAR, \n",
      "recovd VARCHAR, \n",
      "vax_date VARCHAR, \n",
      "onset_date VARCHAR, \n",
      "numdays DECIMAL, \n",
      "lab_data VARCHAR, \n",
      "v_adminby VARCHAR, \n",
      "v_fundby VARCHAR, \n",
      "other_meds VARCHAR, \n",
      "cur_ill VARCHAR, \n",
      "history VARCHAR, \n",
      "prior_vax VARCHAR, \n",
      "splttype VARCHAR, \n",
      "form_vers INTEGER, \n",
      "todays_date VARCHAR, \n",
      "birth_defect VARCHAR, \n",
      "ofc_visit VARCHAR, \n",
      "er_ed_visit VARCHAR, \n",
      "allergies VARCHAR, \n",
      "year INTEGER);\n",
      "Done! Inserted data\n",
      "CREATE TABLE IF NOT EXISTS symptoms (\n",
      "vaers_id INTEGER, \n",
      "symptom1 VARCHAR, \n",
      "symptomversion1 DECIMAL, \n",
      "symptom2 VARCHAR, \n",
      "symptomversion2 DECIMAL, \n",
      "symptom3 VARCHAR, \n",
      "symptomversion3 DECIMAL, \n",
      "symptom4 VARCHAR, \n",
      "symptomversion4 DECIMAL, \n",
      "symptom5 VARCHAR, \n",
      "symptomversion5 DECIMAL, \n",
      "year INTEGER);\n",
      "Done! Inserted symptoms\n",
      "CREATE TABLE IF NOT EXISTS vax (\n",
      "vaers_id INTEGER, \n",
      "vax_type VARCHAR, \n",
      "vax_manu VARCHAR, \n",
      "vax_lot VARCHAR, \n",
      "vax_dose_series VARCHAR, \n",
      "vax_route VARCHAR, \n",
      "vax_site VARCHAR, \n",
      "vax_name VARCHAR, \n",
      "year INTEGER);\n",
      "Done! Inserted vax\n"
     ]
    }
   ],
   "source": [
    "make_tables(conn, 2022)"
   ]
  },
  {
   "cell_type": "code",
   "execution_count": 97,
   "id": "0ffee858",
   "metadata": {},
   "outputs": [],
   "source": [
    "#closing connection\n",
    "\n",
    "c.close()\n",
    "    \n",
    "conn.close()"
   ]
  }
 ],
 "metadata": {
  "kernelspec": {
   "display_name": "Python [conda env:metis] *",
   "language": "python",
   "name": "conda-env-metis-py"
  },
  "language_info": {
   "codemirror_mode": {
    "name": "ipython",
    "version": 3
   },
   "file_extension": ".py",
   "mimetype": "text/x-python",
   "name": "python",
   "nbconvert_exporter": "python",
   "pygments_lexer": "ipython3",
   "version": "3.9.7"
  }
 },
 "nbformat": 4,
 "nbformat_minor": 5
}
