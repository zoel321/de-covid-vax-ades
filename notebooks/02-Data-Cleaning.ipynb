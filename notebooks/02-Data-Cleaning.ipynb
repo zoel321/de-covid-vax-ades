{
 "cells": [
  {
   "cell_type": "markdown",
   "id": "f0cb29e0",
   "metadata": {},
   "source": [
    "## From Database back into df (querying, etc.)\n",
    "\n",
    "\n",
    "https://docs.sqlalchemy.org/en/14/tutorial/data.html"
   ]
  },
  {
   "cell_type": "code",
   "execution_count": 1,
   "id": "c14f8b05",
   "metadata": {},
   "outputs": [],
   "source": [
    "from sqlalchemy import create_engine\n",
    "import pandas as pd"
   ]
  },
  {
   "cell_type": "code",
   "execution_count": 2,
   "id": "1096a0af",
   "metadata": {},
   "outputs": [
    {
     "data": {
      "text/plain": [
       "Engine(sqlite:///vaers.db)"
      ]
     },
     "execution_count": 2,
     "metadata": {},
     "output_type": "execute_result"
    }
   ],
   "source": [
    "engine = create_engine(\"sqlite:///vaers.db\")\n",
    "engine"
   ]
  },
  {
   "cell_type": "code",
   "execution_count": 3,
   "id": "53d0e001",
   "metadata": {},
   "outputs": [
    {
     "data": {
      "text/plain": [
       "['data', 'symptoms', 'vax']"
      ]
     },
     "execution_count": 3,
     "metadata": {},
     "output_type": "execute_result"
    }
   ],
   "source": [
    "all_tables = engine.table_names()\n",
    "all_tables"
   ]
  },
  {
   "cell_type": "markdown",
   "id": "8c325608",
   "metadata": {},
   "source": [
    "### SQL statements\n",
    "VAERS data guide: https://vaers.hhs.gov/docs/VAERSDataUseGuide_en_September2021.pdf\n",
    "\n",
    "Limiting to data for Covid-19 vaccines\n",
    "- 1) Dataframe with: vaccine manufacturer, dose series number, vaccination date, number of days (calculated interval (in days) from the vaccination date to the onset date), age of patient (in years), and the Vaers ID for report\n",
    "- 2) Dataframe with: symptoms, vaccine manufacturer, dose series number, year (of report)\n",
    "\n",
    "Will lightly clean (remove nulls, group categories) before saving back to SQLite"
   ]
  },
  {
   "cell_type": "code",
   "execution_count": 48,
   "id": "e5961401",
   "metadata": {},
   "outputs": [],
   "source": [
    "#first query\n",
    "\n",
    "s1 = '''\n",
    "SELECT v.vax_manu, v.vax_dose_series, d.v_adminby, d.vax_date, d.numdays, d.age_yrs, v.vaers_id\n",
    "FROM vax v \n",
    "INNER JOIN data d \n",
    "ON v.vaers_id = d.vaers_id\n",
    "WHERE v.vax_type = 'COVID19';\n",
    "'''"
   ]
  },
  {
   "cell_type": "code",
   "execution_count": 49,
   "id": "bb2a2c95",
   "metadata": {},
   "outputs": [],
   "source": [
    "df1 = pd.read_sql(s1, engine)"
   ]
  },
  {
   "cell_type": "code",
   "execution_count": 50,
   "id": "7bf565c5",
   "metadata": {
    "scrolled": true
   },
   "outputs": [
    {
     "name": "stdout",
     "output_type": "stream",
     "text": [
      "<class 'pandas.core.frame.DataFrame'>\n",
      "RangeIndex: 811629 entries, 0 to 811628\n",
      "Data columns (total 7 columns):\n",
      " #   Column           Non-Null Count   Dtype  \n",
      "---  ------           --------------   -----  \n",
      " 0   vax_manu         811629 non-null  object \n",
      " 1   vax_dose_series  808680 non-null  object \n",
      " 2   v_adminby        811629 non-null  object \n",
      " 3   vax_date         758782 non-null  object \n",
      " 4   numdays          718031 non-null  float64\n",
      " 5   age_yrs          735131 non-null  float64\n",
      " 6   vaers_id         811629 non-null  int64  \n",
      "dtypes: float64(2), int64(1), object(4)\n",
      "memory usage: 43.3+ MB\n"
     ]
    }
   ],
   "source": [
    "df1.info()"
   ]
  },
  {
   "cell_type": "code",
   "execution_count": 51,
   "id": "91cc7674",
   "metadata": {
    "scrolled": true
   },
   "outputs": [
    {
     "data": {
      "text/html": [
       "<div>\n",
       "<style scoped>\n",
       "    .dataframe tbody tr th:only-of-type {\n",
       "        vertical-align: middle;\n",
       "    }\n",
       "\n",
       "    .dataframe tbody tr th {\n",
       "        vertical-align: top;\n",
       "    }\n",
       "\n",
       "    .dataframe thead th {\n",
       "        text-align: right;\n",
       "    }\n",
       "</style>\n",
       "<table border=\"1\" class=\"dataframe\">\n",
       "  <thead>\n",
       "    <tr style=\"text-align: right;\">\n",
       "      <th></th>\n",
       "      <th>vax_manu</th>\n",
       "      <th>vax_dose_series</th>\n",
       "      <th>v_adminby</th>\n",
       "      <th>vax_date</th>\n",
       "      <th>numdays</th>\n",
       "      <th>age_yrs</th>\n",
       "      <th>vaers_id</th>\n",
       "    </tr>\n",
       "  </thead>\n",
       "  <tbody>\n",
       "    <tr>\n",
       "      <th>0</th>\n",
       "      <td>PFIZER\\BIONTECH</td>\n",
       "      <td>1</td>\n",
       "      <td>PVT</td>\n",
       "      <td>12/15/2020</td>\n",
       "      <td>0.0</td>\n",
       "      <td>56.0</td>\n",
       "      <td>902418</td>\n",
       "    </tr>\n",
       "    <tr>\n",
       "      <th>1</th>\n",
       "      <td>PFIZER\\BIONTECH</td>\n",
       "      <td>1</td>\n",
       "      <td>PVT</td>\n",
       "      <td>12/15/2020</td>\n",
       "      <td>0.0</td>\n",
       "      <td>35.0</td>\n",
       "      <td>902440</td>\n",
       "    </tr>\n",
       "    <tr>\n",
       "      <th>2</th>\n",
       "      <td>PFIZER\\BIONTECH</td>\n",
       "      <td>1</td>\n",
       "      <td>OTH</td>\n",
       "      <td>12/15/2020</td>\n",
       "      <td>0.0</td>\n",
       "      <td>55.0</td>\n",
       "      <td>902446</td>\n",
       "    </tr>\n",
       "    <tr>\n",
       "      <th>3</th>\n",
       "      <td>PFIZER\\BIONTECH</td>\n",
       "      <td>UNK</td>\n",
       "      <td>PVT</td>\n",
       "      <td>12/15/2020</td>\n",
       "      <td>0.0</td>\n",
       "      <td>42.0</td>\n",
       "      <td>902464</td>\n",
       "    </tr>\n",
       "    <tr>\n",
       "      <th>4</th>\n",
       "      <td>PFIZER\\BIONTECH</td>\n",
       "      <td>1</td>\n",
       "      <td>PUB</td>\n",
       "      <td>12/15/2020</td>\n",
       "      <td>0.0</td>\n",
       "      <td>60.0</td>\n",
       "      <td>902465</td>\n",
       "    </tr>\n",
       "  </tbody>\n",
       "</table>\n",
       "</div>"
      ],
      "text/plain": [
       "          vax_manu vax_dose_series v_adminby    vax_date  numdays  age_yrs  \\\n",
       "0  PFIZER\\BIONTECH               1       PVT  12/15/2020      0.0     56.0   \n",
       "1  PFIZER\\BIONTECH               1       PVT  12/15/2020      0.0     35.0   \n",
       "2  PFIZER\\BIONTECH               1       OTH  12/15/2020      0.0     55.0   \n",
       "3  PFIZER\\BIONTECH             UNK       PVT  12/15/2020      0.0     42.0   \n",
       "4  PFIZER\\BIONTECH               1       PUB  12/15/2020      0.0     60.0   \n",
       "\n",
       "   vaers_id  \n",
       "0    902418  \n",
       "1    902440  \n",
       "2    902446  \n",
       "3    902464  \n",
       "4    902465  "
      ]
     },
     "execution_count": 51,
     "metadata": {},
     "output_type": "execute_result"
    }
   ],
   "source": [
    "df1.head()"
   ]
  },
  {
   "cell_type": "code",
   "execution_count": 51,
   "id": "6f5781c7",
   "metadata": {
    "scrolled": true
   },
   "outputs": [
    {
     "name": "stdout",
     "output_type": "stream",
     "text": [
      "<class 'pandas.core.frame.DataFrame'>\n",
      "RangeIndex: 811629 entries, 0 to 811628\n",
      "Data columns (total 6 columns):\n",
      " #   Column           Non-Null Count   Dtype  \n",
      "---  ------           --------------   -----  \n",
      " 0   vax_manu         811629 non-null  object \n",
      " 1   vax_dose_series  808680 non-null  object \n",
      " 2   v_adminby        811629 non-null  object \n",
      " 3   numdays          718031 non-null  float64\n",
      " 4   age_yrs          735131 non-null  float64\n",
      " 5   vaers_id         811629 non-null  int64  \n",
      "dtypes: float64(2), int64(1), object(3)\n",
      "memory usage: 37.2+ MB\n"
     ]
    }
   ],
   "source": [
    "df1.info()"
   ]
  },
  {
   "cell_type": "code",
   "execution_count": 52,
   "id": "6c6be5a8",
   "metadata": {},
   "outputs": [],
   "source": [
    "#dropping nulls\n",
    "df1 = df1.dropna(subset = ['vax_dose_series', 'v_adminby', 'numdays', 'age_yrs', 'vax_date'])"
   ]
  },
  {
   "cell_type": "code",
   "execution_count": 53,
   "id": "c3a74bc9",
   "metadata": {},
   "outputs": [
    {
     "data": {
      "text/plain": [
       "PVT    175303\n",
       "PHM    152990\n",
       "UNK    150065\n",
       "OTH     81239\n",
       "PUB     76136\n",
       "WRK     25477\n",
       "SEN     10960\n",
       "SCH     10770\n",
       "MIL      9067\n",
       "Name: v_adminby, dtype: int64"
      ]
     },
     "execution_count": 53,
     "metadata": {},
     "output_type": "execute_result"
    }
   ],
   "source": [
    "df1.v_adminby.value_counts()"
   ]
  },
  {
   "cell_type": "code",
   "execution_count": 54,
   "id": "1ee171d6",
   "metadata": {},
   "outputs": [],
   "source": [
    "dict_location = {'PVT': 'Private', 'PHM': 'Pharmacy', 'MIL': 'Military', 'OTH': 'Other', 'PUB': 'Public', 'WRK': 'Workplace Clinic', 'UNK': 'Unknown', 'OTH': 'Other', 'SEN': 'Nursing Home', 'SCH': 'School'}"
   ]
  },
  {
   "cell_type": "code",
   "execution_count": 55,
   "id": "338f8986",
   "metadata": {
    "scrolled": true
   },
   "outputs": [],
   "source": [
    "df1.replace({'v_adminby': dict_location}, inplace=True)"
   ]
  },
  {
   "cell_type": "code",
   "execution_count": 56,
   "id": "27cfe540",
   "metadata": {},
   "outputs": [
    {
     "data": {
      "text/plain": [
       "1      335737\n",
       "2      210814\n",
       "UNK     92444\n",
       "3       51618\n",
       "4         782\n",
       "7+        309\n",
       "5         194\n",
       "6         109\n",
       "Name: vax_dose_series, dtype: int64"
      ]
     },
     "execution_count": 56,
     "metadata": {},
     "output_type": "execute_result"
    }
   ],
   "source": [
    "df1.vax_dose_series.value_counts()"
   ]
  },
  {
   "cell_type": "code",
   "execution_count": 57,
   "id": "833a5615",
   "metadata": {},
   "outputs": [],
   "source": [
    "def group_multdoses(dose):\n",
    "    if dose in ['5','6','7+']:\n",
    "        dose = '5+'\n",
    "    return dose"
   ]
  },
  {
   "cell_type": "code",
   "execution_count": 58,
   "id": "3c4de491",
   "metadata": {},
   "outputs": [],
   "source": [
    "df1.vax_dose_series = df1.vax_dose_series.apply(lambda x: group_multdoses(x))"
   ]
  },
  {
   "cell_type": "code",
   "execution_count": 59,
   "id": "37a6f957",
   "metadata": {
    "scrolled": true
   },
   "outputs": [
    {
     "data": {
      "text/plain": [
       "1      335737\n",
       "2      210814\n",
       "UNK     92444\n",
       "3       51618\n",
       "4         782\n",
       "5+        612\n",
       "Name: vax_dose_series, dtype: int64"
      ]
     },
     "execution_count": 59,
     "metadata": {},
     "output_type": "execute_result"
    }
   ],
   "source": [
    "df1.vax_dose_series.value_counts()"
   ]
  },
  {
   "cell_type": "code",
   "execution_count": 61,
   "id": "18b140e8",
   "metadata": {},
   "outputs": [],
   "source": [
    "# df1.to_pickle('df1.pkl')"
   ]
  },
  {
   "cell_type": "code",
   "execution_count": 35,
   "id": "3eb88744",
   "metadata": {},
   "outputs": [],
   "source": [
    "# query for side effects table for vaers_id that matches for covid-19 vax\n",
    "\n",
    "s2 = '''\n",
    "\n",
    "SELECT vaers_id, year,\n",
    "GROUP_CONCAT(COALESCE(symptom1, ''),', ') ||', '||\n",
    "GROUP_CONCAT(COALESCE(symptom2, ''),', ') ||', '||\n",
    "GROUP_CONCAT(COALESCE(symptom3, ''),', ') ||', '||\n",
    "GROUP_CONCAT(COALESCE(symptom4, ''),', ') ||', '||\n",
    "GROUP_CONCAT(COALESCE(symptom5, ''), ', ') AS all_symptoms\n",
    "FROM symptoms \n",
    "WHERE vaers_id IN\n",
    "(SELECT vaers_id \n",
    "FROM vax WHERE vax_type = 'COVID19')\n",
    "GROUP BY vaers_id;\n",
    "'''"
   ]
  },
  {
   "cell_type": "code",
   "execution_count": 36,
   "id": "d144753e",
   "metadata": {},
   "outputs": [],
   "source": [
    "symptoms_df = pd.read_sql(s2, engine)"
   ]
  },
  {
   "cell_type": "code",
   "execution_count": 37,
   "id": "dc15fcf6",
   "metadata": {
    "scrolled": true
   },
   "outputs": [
    {
     "data": {
      "text/html": [
       "<div>\n",
       "<style scoped>\n",
       "    .dataframe tbody tr th:only-of-type {\n",
       "        vertical-align: middle;\n",
       "    }\n",
       "\n",
       "    .dataframe tbody tr th {\n",
       "        vertical-align: top;\n",
       "    }\n",
       "\n",
       "    .dataframe thead th {\n",
       "        text-align: right;\n",
       "    }\n",
       "</style>\n",
       "<table border=\"1\" class=\"dataframe\">\n",
       "  <thead>\n",
       "    <tr style=\"text-align: right;\">\n",
       "      <th></th>\n",
       "      <th>vaers_id</th>\n",
       "      <th>year</th>\n",
       "      <th>all_symptoms</th>\n",
       "    </tr>\n",
       "  </thead>\n",
       "  <tbody>\n",
       "    <tr>\n",
       "      <th>0</th>\n",
       "      <td>902418</td>\n",
       "      <td>2020</td>\n",
       "      <td>Hypoaesthesia, Injection site hypoaesthesia, , ,</td>\n",
       "    </tr>\n",
       "    <tr>\n",
       "      <th>1</th>\n",
       "      <td>902440</td>\n",
       "      <td>2020</td>\n",
       "      <td>Headache, , , ,</td>\n",
       "    </tr>\n",
       "    <tr>\n",
       "      <th>2</th>\n",
       "      <td>902446</td>\n",
       "      <td>2020</td>\n",
       "      <td>Erythema, Feeling hot, Flushing, ,</td>\n",
       "    </tr>\n",
       "    <tr>\n",
       "      <th>3</th>\n",
       "      <td>902464</td>\n",
       "      <td>2020</td>\n",
       "      <td>Dizziness, Electrocardiogram normal, Hyperhidr...</td>\n",
       "    </tr>\n",
       "    <tr>\n",
       "      <th>4</th>\n",
       "      <td>902465</td>\n",
       "      <td>2020</td>\n",
       "      <td>Dysgeusia, Sensory disturbance, Oral pruritus,...</td>\n",
       "    </tr>\n",
       "    <tr>\n",
       "      <th>...</th>\n",
       "      <td>...</td>\n",
       "      <td>...</td>\n",
       "      <td>...</td>\n",
       "    </tr>\n",
       "    <tr>\n",
       "      <th>774365</th>\n",
       "      <td>2139618</td>\n",
       "      <td>2022</td>\n",
       "      <td>COVID-19, SARS-CoV-2 test positive, , ,</td>\n",
       "    </tr>\n",
       "    <tr>\n",
       "      <th>774366</th>\n",
       "      <td>2139619</td>\n",
       "      <td>2022</td>\n",
       "      <td>COVID-19, SARS-CoV-2 test positive, Vaccine br...</td>\n",
       "    </tr>\n",
       "    <tr>\n",
       "      <th>774367</th>\n",
       "      <td>2139620</td>\n",
       "      <td>2022</td>\n",
       "      <td>Hypoaesthesia, , , ,</td>\n",
       "    </tr>\n",
       "    <tr>\n",
       "      <th>774368</th>\n",
       "      <td>2139621</td>\n",
       "      <td>2022</td>\n",
       "      <td>Alanine aminotransferase normal, Antinuclear a...</td>\n",
       "    </tr>\n",
       "    <tr>\n",
       "      <th>774369</th>\n",
       "      <td>2139622</td>\n",
       "      <td>2022</td>\n",
       "      <td>Acoustic stimulation tests, Ear, nose and thro...</td>\n",
       "    </tr>\n",
       "  </tbody>\n",
       "</table>\n",
       "<p>774370 rows × 3 columns</p>\n",
       "</div>"
      ],
      "text/plain": [
       "        vaers_id  year                                       all_symptoms\n",
       "0         902418  2020  Hypoaesthesia, Injection site hypoaesthesia, , , \n",
       "1         902440  2020                                   Headache, , , , \n",
       "2         902446  2020                Erythema, Feeling hot, Flushing, , \n",
       "3         902464  2020  Dizziness, Electrocardiogram normal, Hyperhidr...\n",
       "4         902465  2020  Dysgeusia, Sensory disturbance, Oral pruritus,...\n",
       "...          ...   ...                                                ...\n",
       "774365   2139618  2022           COVID-19, SARS-CoV-2 test positive, , , \n",
       "774366   2139619  2022  COVID-19, SARS-CoV-2 test positive, Vaccine br...\n",
       "774367   2139620  2022                              Hypoaesthesia, , , , \n",
       "774368   2139621  2022  Alanine aminotransferase normal, Antinuclear a...\n",
       "774369   2139622  2022  Acoustic stimulation tests, Ear, nose and thro...\n",
       "\n",
       "[774370 rows x 3 columns]"
      ]
     },
     "execution_count": 37,
     "metadata": {},
     "output_type": "execute_result"
    }
   ],
   "source": [
    "symptoms_df"
   ]
  },
  {
   "cell_type": "code",
   "execution_count": 38,
   "id": "c9092c95",
   "metadata": {},
   "outputs": [
    {
     "data": {
      "text/plain": [
       "774370"
      ]
     },
     "execution_count": 38,
     "metadata": {},
     "output_type": "execute_result"
    }
   ],
   "source": [
    "symptoms_df.vaers_id.nunique()"
   ]
  },
  {
   "cell_type": "code",
   "execution_count": 63,
   "id": "792654ae",
   "metadata": {
    "scrolled": true
   },
   "outputs": [
    {
     "data": {
      "text/plain": [
       "'Erythema, Feeling hot, Flushing, , '"
      ]
     },
     "execution_count": 63,
     "metadata": {},
     "output_type": "execute_result"
    }
   ],
   "source": [
    "symptoms_df.iloc[2].all_symptoms"
   ]
  },
  {
   "cell_type": "code",
   "execution_count": 60,
   "id": "f9d55466",
   "metadata": {},
   "outputs": [],
   "source": [
    "# getting more detailed df with symptoms, year, vaccine, and dose number\n",
    "\n",
    "s3 = '''\n",
    "\n",
    "SELECT s.vaers_id, s.year, v.vax_manu, v.vax_dose_series,\n",
    "GROUP_CONCAT(COALESCE(s.symptom1, ''),', ') ||', '||\n",
    "GROUP_CONCAT(COALESCE(s.symptom2, ''),', ') ||', '||\n",
    "GROUP_CONCAT(COALESCE(s.symptom3, ''),', ') ||', '||\n",
    "GROUP_CONCAT(COALESCE(s.symptom4, ''),', ') ||', '||\n",
    "GROUP_CONCAT(COALESCE(s.symptom5, ''), ', ') AS all_symptoms\n",
    "FROM symptoms s\n",
    "INNER JOIN vax v ON\n",
    "s.vaers_id = v.vaers_id\n",
    "WHERE v.vax_type = 'COVID19'\n",
    "GROUP BY s.vaers_id;\n",
    "'''"
   ]
  },
  {
   "cell_type": "code",
   "execution_count": 61,
   "id": "958cc6d5",
   "metadata": {},
   "outputs": [],
   "source": [
    "df3 = pd.read_sql(s3, engine)"
   ]
  },
  {
   "cell_type": "code",
   "execution_count": 62,
   "id": "5fc56d18",
   "metadata": {},
   "outputs": [
    {
     "data": {
      "text/html": [
       "<div>\n",
       "<style scoped>\n",
       "    .dataframe tbody tr th:only-of-type {\n",
       "        vertical-align: middle;\n",
       "    }\n",
       "\n",
       "    .dataframe tbody tr th {\n",
       "        vertical-align: top;\n",
       "    }\n",
       "\n",
       "    .dataframe thead th {\n",
       "        text-align: right;\n",
       "    }\n",
       "</style>\n",
       "<table border=\"1\" class=\"dataframe\">\n",
       "  <thead>\n",
       "    <tr style=\"text-align: right;\">\n",
       "      <th></th>\n",
       "      <th>vaers_id</th>\n",
       "      <th>year</th>\n",
       "      <th>vax_manu</th>\n",
       "      <th>vax_dose_series</th>\n",
       "      <th>all_symptoms</th>\n",
       "    </tr>\n",
       "  </thead>\n",
       "  <tbody>\n",
       "    <tr>\n",
       "      <th>0</th>\n",
       "      <td>902418</td>\n",
       "      <td>2020</td>\n",
       "      <td>PFIZER\\BIONTECH</td>\n",
       "      <td>1</td>\n",
       "      <td>Hypoaesthesia, Injection site hypoaesthesia, , ,</td>\n",
       "    </tr>\n",
       "    <tr>\n",
       "      <th>1</th>\n",
       "      <td>902440</td>\n",
       "      <td>2020</td>\n",
       "      <td>PFIZER\\BIONTECH</td>\n",
       "      <td>1</td>\n",
       "      <td>Headache, , , ,</td>\n",
       "    </tr>\n",
       "    <tr>\n",
       "      <th>2</th>\n",
       "      <td>902446</td>\n",
       "      <td>2020</td>\n",
       "      <td>PFIZER\\BIONTECH</td>\n",
       "      <td>1</td>\n",
       "      <td>Erythema, Feeling hot, Flushing, ,</td>\n",
       "    </tr>\n",
       "    <tr>\n",
       "      <th>3</th>\n",
       "      <td>902464</td>\n",
       "      <td>2020</td>\n",
       "      <td>PFIZER\\BIONTECH</td>\n",
       "      <td>UNK</td>\n",
       "      <td>Dizziness, Electrocardiogram normal, Hyperhidr...</td>\n",
       "    </tr>\n",
       "    <tr>\n",
       "      <th>4</th>\n",
       "      <td>902465</td>\n",
       "      <td>2020</td>\n",
       "      <td>PFIZER\\BIONTECH</td>\n",
       "      <td>1</td>\n",
       "      <td>Dysgeusia, Sensory disturbance, Oral pruritus,...</td>\n",
       "    </tr>\n",
       "    <tr>\n",
       "      <th>...</th>\n",
       "      <td>...</td>\n",
       "      <td>...</td>\n",
       "      <td>...</td>\n",
       "      <td>...</td>\n",
       "      <td>...</td>\n",
       "    </tr>\n",
       "    <tr>\n",
       "      <th>774365</th>\n",
       "      <td>2139618</td>\n",
       "      <td>2022</td>\n",
       "      <td>UNKNOWN MANUFACTURER</td>\n",
       "      <td>UNK</td>\n",
       "      <td>COVID-19, SARS-CoV-2 test positive, , ,</td>\n",
       "    </tr>\n",
       "    <tr>\n",
       "      <th>774366</th>\n",
       "      <td>2139619</td>\n",
       "      <td>2022</td>\n",
       "      <td>MODERNA</td>\n",
       "      <td>3</td>\n",
       "      <td>COVID-19, SARS-CoV-2 test positive, Vaccine br...</td>\n",
       "    </tr>\n",
       "    <tr>\n",
       "      <th>774367</th>\n",
       "      <td>2139620</td>\n",
       "      <td>2022</td>\n",
       "      <td>JANSSEN</td>\n",
       "      <td>2</td>\n",
       "      <td>Hypoaesthesia, , , ,</td>\n",
       "    </tr>\n",
       "    <tr>\n",
       "      <th>774368</th>\n",
       "      <td>2139621</td>\n",
       "      <td>2022</td>\n",
       "      <td>MODERNA</td>\n",
       "      <td>2</td>\n",
       "      <td>Alanine aminotransferase normal, Antinuclear a...</td>\n",
       "    </tr>\n",
       "    <tr>\n",
       "      <th>774369</th>\n",
       "      <td>2139622</td>\n",
       "      <td>2022</td>\n",
       "      <td>MODERNA</td>\n",
       "      <td>UNK</td>\n",
       "      <td>Acoustic stimulation tests, Ear, nose and thro...</td>\n",
       "    </tr>\n",
       "  </tbody>\n",
       "</table>\n",
       "<p>774370 rows × 5 columns</p>\n",
       "</div>"
      ],
      "text/plain": [
       "        vaers_id  year              vax_manu vax_dose_series  \\\n",
       "0         902418  2020       PFIZER\\BIONTECH               1   \n",
       "1         902440  2020       PFIZER\\BIONTECH               1   \n",
       "2         902446  2020       PFIZER\\BIONTECH               1   \n",
       "3         902464  2020       PFIZER\\BIONTECH             UNK   \n",
       "4         902465  2020       PFIZER\\BIONTECH               1   \n",
       "...          ...   ...                   ...             ...   \n",
       "774365   2139618  2022  UNKNOWN MANUFACTURER             UNK   \n",
       "774366   2139619  2022               MODERNA               3   \n",
       "774367   2139620  2022               JANSSEN               2   \n",
       "774368   2139621  2022               MODERNA               2   \n",
       "774369   2139622  2022               MODERNA             UNK   \n",
       "\n",
       "                                             all_symptoms  \n",
       "0       Hypoaesthesia, Injection site hypoaesthesia, , ,   \n",
       "1                                        Headache, , , ,   \n",
       "2                     Erythema, Feeling hot, Flushing, ,   \n",
       "3       Dizziness, Electrocardiogram normal, Hyperhidr...  \n",
       "4       Dysgeusia, Sensory disturbance, Oral pruritus,...  \n",
       "...                                                   ...  \n",
       "774365           COVID-19, SARS-CoV-2 test positive, , ,   \n",
       "774366  COVID-19, SARS-CoV-2 test positive, Vaccine br...  \n",
       "774367                              Hypoaesthesia, , , ,   \n",
       "774368  Alanine aminotransferase normal, Antinuclear a...  \n",
       "774369  Acoustic stimulation tests, Ear, nose and thro...  \n",
       "\n",
       "[774370 rows x 5 columns]"
      ]
     },
     "execution_count": 62,
     "metadata": {},
     "output_type": "execute_result"
    }
   ],
   "source": [
    "df3"
   ]
  },
  {
   "cell_type": "code",
   "execution_count": 64,
   "id": "a9316358",
   "metadata": {},
   "outputs": [
    {
     "name": "stdout",
     "output_type": "stream",
     "text": [
      "<class 'pandas.core.frame.DataFrame'>\n",
      "RangeIndex: 774370 entries, 0 to 774369\n",
      "Data columns (total 5 columns):\n",
      " #   Column           Non-Null Count   Dtype \n",
      "---  ------           --------------   ----- \n",
      " 0   vaers_id         774370 non-null  int64 \n",
      " 1   year             774370 non-null  int64 \n",
      " 2   vax_manu         774370 non-null  object\n",
      " 3   vax_dose_series  771476 non-null  object\n",
      " 4   all_symptoms     774370 non-null  object\n",
      "dtypes: int64(2), object(3)\n",
      "memory usage: 29.5+ MB\n"
     ]
    }
   ],
   "source": [
    "df3.info()"
   ]
  },
  {
   "cell_type": "code",
   "execution_count": 65,
   "id": "43d54e6d",
   "metadata": {},
   "outputs": [],
   "source": [
    "#dropping nulls\n",
    "df3 = df3.dropna(subset = ['vax_manu', 'vax_dose_series'])"
   ]
  },
  {
   "cell_type": "code",
   "execution_count": 68,
   "id": "031c1fc1",
   "metadata": {},
   "outputs": [
    {
     "name": "stderr",
     "output_type": "stream",
     "text": [
      "/Users/zliao/opt/anaconda3/envs/metis/lib/python3.9/site-packages/pandas/core/generic.py:5516: SettingWithCopyWarning: \n",
      "A value is trying to be set on a copy of a slice from a DataFrame.\n",
      "Try using .loc[row_indexer,col_indexer] = value instead\n",
      "\n",
      "See the caveats in the documentation: https://pandas.pydata.org/pandas-docs/stable/user_guide/indexing.html#returning-a-view-versus-a-copy\n",
      "  self[name] = value\n"
     ]
    }
   ],
   "source": [
    "df3.vax_dose_series = df3.vax_dose_series.apply(lambda x: group_multdoses(x))"
   ]
  },
  {
   "cell_type": "code",
   "execution_count": 70,
   "id": "0d489308",
   "metadata": {},
   "outputs": [
    {
     "data": {
      "text/plain": [
       "1      386707\n",
       "2      207190\n",
       "UNK    121865\n",
       "3       54324\n",
       "4         771\n",
       "5+        619\n",
       "Name: vax_dose_series, dtype: int64"
      ]
     },
     "execution_count": 70,
     "metadata": {},
     "output_type": "execute_result"
    }
   ],
   "source": [
    "df3.vax_dose_series.value_counts()"
   ]
  },
  {
   "cell_type": "markdown",
   "id": "d5ec6ad0",
   "metadata": {},
   "source": [
    "### Saving dataframes back to SQLite as tables \n",
    "Saving these semi-cleaned dataframes back to SQL as new tables. The rest of the cleaning will be done via Spark."
   ]
  },
  {
   "cell_type": "code",
   "execution_count": 71,
   "id": "b16601c8",
   "metadata": {},
   "outputs": [],
   "source": [
    "df1.to_sql('stats', con=engine, if_exists = 'replace', index=False)"
   ]
  },
  {
   "cell_type": "code",
   "execution_count": 72,
   "id": "93a66b13",
   "metadata": {},
   "outputs": [],
   "source": [
    "df3.to_sql('ade', con=engine,if_exists = 'replace', index=False)"
   ]
  },
  {
   "cell_type": "markdown",
   "id": "c64df2a2",
   "metadata": {},
   "source": [
    "Saving to CSV files too, for analysis with Spark:"
   ]
  },
  {
   "cell_type": "code",
   "execution_count": 73,
   "id": "81736702",
   "metadata": {},
   "outputs": [],
   "source": [
    "df1.to_csv('stats.csv')\n",
    "df3.to_csv('ade.csv')"
   ]
  },
  {
   "cell_type": "markdown",
   "id": "58ea396b",
   "metadata": {},
   "source": [
    "## First analyzing with Pandas"
   ]
  },
  {
   "cell_type": "markdown",
   "id": "e4e0b701",
   "metadata": {},
   "source": [
    "Sources:\n",
    "https://www.shanelynn.ie/summarising-aggregation-and-grouping-data-in-python-pandas/\n",
    "https://proinsias.github.io/til/Pandas-Named-Aggregation/"
   ]
  },
  {
   "cell_type": "code",
   "execution_count": 65,
   "id": "943193f9",
   "metadata": {},
   "outputs": [],
   "source": [
    "import numpy as np"
   ]
  },
  {
   "cell_type": "code",
   "execution_count": 71,
   "id": "8788afe9",
   "metadata": {},
   "outputs": [],
   "source": [
    "# summary stats\n",
    "\n",
    "summary_df1 = df1.groupby(['vax_manu', 'vax_dose_series', 'v_adminby']).agg(\n",
    "    avg_onset_days = pd.NamedAgg(column='numdays', aggfunc='mean'),\n",
    "    std_onset_days= pd.NamedAgg(column='numdays', aggfunc='std'),\n",
    "    avg_age = pd.NamedAgg(column='age_yrs', aggfunc='mean'),\n",
    "    std_age = pd.NamedAgg(column='age_yrs', aggfunc='std'),\n",
    "    cases = pd.NamedAgg(column='vaers_id', aggfunc='count')).reset_index()\n"
   ]
  },
  {
   "cell_type": "code",
   "execution_count": 75,
   "id": "ad8d77fa",
   "metadata": {},
   "outputs": [],
   "source": [
    "summary_df1.to_pickle('summary_df1.pkl')"
   ]
  },
  {
   "cell_type": "code",
   "execution_count": 77,
   "id": "65d251be",
   "metadata": {
    "scrolled": true
   },
   "outputs": [
    {
     "data": {
      "text/plain": [
       "array(['JANSSEN', 'MODERNA', 'PFIZER\\\\BIONTECH', 'UNKNOWN MANUFACTURER'],\n",
       "      dtype=object)"
      ]
     },
     "execution_count": 77,
     "metadata": {},
     "output_type": "execute_result"
    }
   ],
   "source": [
    "summary_df1.vax_manu.unique()"
   ]
  }
 ],
 "metadata": {
  "kernelspec": {
   "display_name": "Python 3",
   "language": "python",
   "name": "python3"
  },
  "language_info": {
   "codemirror_mode": {
    "name": "ipython",
    "version": 3
   },
   "file_extension": ".py",
   "mimetype": "text/x-python",
   "name": "python",
   "nbconvert_exporter": "python",
   "pygments_lexer": "ipython3",
   "version": "3.8.8"
  }
 },
 "nbformat": 4,
 "nbformat_minor": 5
}
