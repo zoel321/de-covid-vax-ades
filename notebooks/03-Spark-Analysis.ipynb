{
 "cells": [
  {
   "cell_type": "markdown",
   "id": "4bb72d22",
   "metadata": {},
   "source": [
    "## Using Spark"
   ]
  },
  {
   "cell_type": "code",
   "execution_count": null,
   "id": "74ff666e",
   "metadata": {},
   "outputs": [],
   "source": [
    "import pandas as pd"
   ]
  },
  {
   "cell_type": "code",
   "execution_count": 5,
   "id": "30ca92f5",
   "metadata": {},
   "outputs": [],
   "source": [
    "import os\n",
    "import pyspark"
   ]
  },
  {
   "cell_type": "code",
   "execution_count": 6,
   "id": "ea011f17",
   "metadata": {},
   "outputs": [],
   "source": [
    "from pyspark.sql.functions import mean, stddev, count"
   ]
  },
  {
   "cell_type": "code",
   "execution_count": 7,
   "id": "65d6a81c",
   "metadata": {},
   "outputs": [],
   "source": [
    "from pyspark.sql.functions import split, explode, col, lower"
   ]
  },
  {
   "cell_type": "code",
   "execution_count": 8,
   "id": "bb469ac0",
   "metadata": {},
   "outputs": [],
   "source": [
    "from pyspark.sql.functions import collect_list, concat_ws"
   ]
  },
  {
   "cell_type": "code",
   "execution_count": 9,
   "id": "8b0845b2",
   "metadata": {},
   "outputs": [],
   "source": [
    "from pyspark.sql import SparkSession"
   ]
  },
  {
   "cell_type": "code",
   "execution_count": 12,
   "id": "bb665b05",
   "metadata": {},
   "outputs": [],
   "source": [
    "#path to environment\n",
    "os.environ['PYSPARK_PYTHON'] = '/Users/zliao/opt/anaconda3/envs/metis/bin/python'"
   ]
  },
  {
   "cell_type": "code",
   "execution_count": 13,
   "id": "23d3bc8c",
   "metadata": {
    "scrolled": true
   },
   "outputs": [],
   "source": [
    "spark = pyspark.sql.SparkSession.builder.config('spark.driver.memory', '6g').getOrCreate()"
   ]
  },
  {
   "cell_type": "markdown",
   "id": "90b431d2",
   "metadata": {},
   "source": [
    "### Summary data reporting:"
   ]
  },
  {
   "cell_type": "code",
   "execution_count": null,
   "id": "3dfad673",
   "metadata": {},
   "outputs": [],
   "source": [
    "df1 = spark.read.csv('./stats.csv',sep=\",\", inferSchema=\"true\", header=\"true\")"
   ]
  },
  {
   "cell_type": "code",
   "execution_count": null,
   "id": "e411b3d9",
   "metadata": {
    "scrolled": true
   },
   "outputs": [],
   "source": [
    "df1.show(10)"
   ]
  },
  {
   "cell_type": "markdown",
   "id": "d868bcd1",
   "metadata": {},
   "source": [
    "https://sparkbyexamples.com/pyspark/pyspark-groupby-explained-with-example/"
   ]
  },
  {
   "cell_type": "code",
   "execution_count": null,
   "id": "592335ac",
   "metadata": {
    "scrolled": false
   },
   "outputs": [],
   "source": [
    "stats_vis = df1.groupby(['vax_manu', 'vax_dose_series', 'v_adminby'])\\\n",
    "    .agg(mean('numdays').alias('avg_onset'),\\\n",
    "        stddev('numdays').alias('std_onset'),\\\n",
    "        mean('age_yrs').alias('avg_age'),\\\n",
    "        stddev('age_yrs').alias('std_age'),\\\n",
    "        count('vaers_id').alias('cases'))"
   ]
  },
  {
   "cell_type": "code",
   "execution_count": null,
   "id": "fcae8aea",
   "metadata": {},
   "outputs": [],
   "source": [
    "stats_vis.show(5)"
   ]
  },
  {
   "cell_type": "code",
   "execution_count": null,
   "id": "cf2ec056",
   "metadata": {},
   "outputs": [],
   "source": [
    "#examining number of rows\n",
    "stats_vis.count() "
   ]
  },
  {
   "cell_type": "code",
   "execution_count": null,
   "id": "fadb3057",
   "metadata": {},
   "outputs": [],
   "source": [
    "#save! back to pandas since smaller now\n",
    "\n",
    "stats_vis_df = stats_vis.toPandas()"
   ]
  },
  {
   "cell_type": "code",
   "execution_count": null,
   "id": "f8a979eb",
   "metadata": {},
   "outputs": [],
   "source": [
    "stats_vis_df.to_csv('stats_vis.csv')"
   ]
  },
  {
   "cell_type": "markdown",
   "id": "b9cda355",
   "metadata": {},
   "source": [
    "### Adverse effects reporting:"
   ]
  },
  {
   "cell_type": "code",
   "execution_count": 14,
   "id": "13013042",
   "metadata": {
    "scrolled": false
   },
   "outputs": [
    {
     "name": "stderr",
     "output_type": "stream",
     "text": [
      "                                                                                \r"
     ]
    }
   ],
   "source": [
    "ades_df = spark.read.csv('./ade.csv',sep=\",\", inferSchema=\"true\", header=\"true\")\n",
    "\n",
    "#enforce schema"
   ]
  },
  {
   "cell_type": "code",
   "execution_count": null,
   "id": "0bc927f6",
   "metadata": {},
   "outputs": [],
   "source": [
    "ades_df.show(10)"
   ]
  },
  {
   "cell_type": "markdown",
   "id": "2f3e8efa",
   "metadata": {},
   "source": [
    "https://stackoverflow.com/questions/41788919/concatenating-string-by-rows-in-pyspark"
   ]
  },
  {
   "cell_type": "code",
   "execution_count": 15,
   "id": "2c407af6",
   "metadata": {
    "scrolled": true
   },
   "outputs": [],
   "source": [
    "ades_df2 = ades_df.select(['vax_manu', 'vax_dose_series', 'all_symptoms']).groupby(['vax_manu', 'vax_dose_series']).agg(concat_ws(',', collect_list(ades_df.all_symptoms)).alias('symptoms'))"
   ]
  },
  {
   "cell_type": "code",
   "execution_count": 16,
   "id": "00465be2",
   "metadata": {
    "scrolled": false
   },
   "outputs": [
    {
     "name": "stderr",
     "output_type": "stream",
     "text": [
      "                                                                                \r"
     ]
    },
    {
     "name": "stdout",
     "output_type": "stream",
     "text": [
      "+--------------------+---------------+--------------------+\n",
      "|            vax_manu|vax_dose_series|            symptoms|\n",
      "+--------------------+---------------+--------------------+\n",
      "|             MODERNA|              3|Arthralgia, Myalg...|\n",
      "|             JANSSEN|              4|No adverse event,...|\n",
      "|     PFIZER\\BIONTECH|             5+|Hypoaesthesia, Pa...|\n",
      "|             JANSSEN|            UNK|Unevaluable event...|\n",
      "|UNKNOWN MANUFACTURER|              3|Death, , , , ,Pai...|\n",
      "+--------------------+---------------+--------------------+\n",
      "only showing top 5 rows\n",
      "\n"
     ]
    }
   ],
   "source": [
    "ades_df2.show(5)"
   ]
  },
  {
   "cell_type": "code",
   "execution_count": 17,
   "id": "02301532",
   "metadata": {},
   "outputs": [],
   "source": [
    "from pyspark.sql.functions import udf\n",
    "import re"
   ]
  },
  {
   "cell_type": "markdown",
   "id": "92693036",
   "metadata": {},
   "source": [
    "https://stackoverflow.com/questions/46897988/removing-comma-in-a-column-in-pyspark"
   ]
  },
  {
   "cell_type": "code",
   "execution_count": 18,
   "id": "c994ba65",
   "metadata": {},
   "outputs": [],
   "source": [
    "comma_clean = udf(lambda x: re.sub(\" ,\",\"\", x))\n",
    "#clean more in sql"
   ]
  },
  {
   "cell_type": "code",
   "execution_count": 19,
   "id": "1d0c8eb3",
   "metadata": {},
   "outputs": [],
   "source": [
    "ades_df2 = ades_df2.withColumn('cleaned_symptoms', comma_clean('symptoms'))"
   ]
  },
  {
   "cell_type": "code",
   "execution_count": 20,
   "id": "85b12a97",
   "metadata": {
    "scrolled": false
   },
   "outputs": [
    {
     "name": "stderr",
     "output_type": "stream",
     "text": [
      "                                                                                \r"
     ]
    },
    {
     "name": "stdout",
     "output_type": "stream",
     "text": [
      "+--------------------+---------------+--------------------+--------------------+\n",
      "|            vax_manu|vax_dose_series|            symptoms|    cleaned_symptoms|\n",
      "+--------------------+---------------+--------------------+--------------------+\n",
      "|             MODERNA|              3|Arthralgia, Myalg...|Arthralgia, Myalg...|\n",
      "|             JANSSEN|              4|No adverse event,...|No adverse event,...|\n",
      "|     PFIZER\\BIONTECH|             5+|Hypoaesthesia, Pa...|Hypoaesthesia, Pa...|\n",
      "|             JANSSEN|            UNK|Unevaluable event...|Unevaluable event...|\n",
      "|UNKNOWN MANUFACTURER|              3|Death, , , , ,Pai...|Death,Pain in ext...|\n",
      "+--------------------+---------------+--------------------+--------------------+\n",
      "only showing top 5 rows\n",
      "\n"
     ]
    },
    {
     "name": "stderr",
     "output_type": "stream",
     "text": [
      "\r",
      "[Stage 21:======================================================> (47 + 1) / 48]\r",
      "\r",
      "                                                                                \r"
     ]
    }
   ],
   "source": [
    "ades_df2.show(5)"
   ]
  },
  {
   "cell_type": "code",
   "execution_count": 24,
   "id": "5eea009f",
   "metadata": {
    "scrolled": true
   },
   "outputs": [
    {
     "name": "stderr",
     "output_type": "stream",
     "text": [
      "[Stage 38:=====================================================>(198 + 2) / 200]\r"
     ]
    },
    {
     "name": "stdout",
     "output_type": "stream",
     "text": [
      "+--------------------+-----+\n",
      "|            separate|count|\n",
      "+--------------------+-----+\n",
      "|angiogram cerebra...|  162|\n",
      "| arteriogram carotid|  142|\n",
      "|        heat therapy|   18|\n",
      "|biopsy skin abnormal|  147|\n",
      "|         face oedema|   55|\n",
      "|  swelling of eyelid|   98|\n",
      "|       eye discharge|  175|\n",
      "|blood cholesterol...|   31|\n",
      "| mycobacterium tu...|   49|\n",
      "|      electromyogram|  530|\n",
      "+--------------------+-----+\n",
      "only showing top 10 rows\n",
      "\n"
     ]
    },
    {
     "name": "stderr",
     "output_type": "stream",
     "text": [
      "\r",
      "                                                                                \r"
     ]
    }
   ],
   "source": [
    "#getting counts for each symptom (within manufacturer and dose series group)\n",
    "(ades_df2.withColumn('separate', explode(split(lower(col('cleaned_symptoms')), ','))).groupby('separate').count().show(10))"
   ]
  },
  {
   "cell_type": "code",
   "execution_count": 28,
   "id": "625f6bda",
   "metadata": {},
   "outputs": [],
   "source": [
    "ades_df3 = ades_df2.withColumn('cleaned_symptoms', explode(split(lower(col('cleaned_symptoms')), ','))).groupby(['vax_manu', 'vax_dose_series','cleaned_symptoms']).agg(count('cleaned_symptoms').alias('symptom_count'))"
   ]
  },
  {
   "cell_type": "code",
   "execution_count": 22,
   "id": "b31e421a",
   "metadata": {
    "scrolled": false
   },
   "outputs": [
    {
     "name": "stderr",
     "output_type": "stream",
     "text": [
      "[Stage 28:=====================================================>(199 + 1) / 200]\r"
     ]
    },
    {
     "name": "stdout",
     "output_type": "stream",
     "text": [
      "+---------------+---------------+--------------------+-------------+\n",
      "|       vax_manu|vax_dose_series|    cleaned_symptoms|symptom_count|\n",
      "+---------------+---------------+--------------------+-------------+\n",
      "|PFIZER\\BIONTECH|             5+|              tremor|            2|\n",
      "|PFIZER\\BIONTECH|             5+|             aphasia|            2|\n",
      "|PFIZER\\BIONTECH|             5+|      vision blurred|            2|\n",
      "|PFIZER\\BIONTECH|             5+|  cardiac monitoring|            1|\n",
      "|PFIZER\\BIONTECH|             5+|           blindness|            1|\n",
      "|PFIZER\\BIONTECH|              1|           dysstasia|           55|\n",
      "|PFIZER\\BIONTECH|              1|   burning sensation|          904|\n",
      "|PFIZER\\BIONTECH|              1|      prostatomegaly|            8|\n",
      "|PFIZER\\BIONTECH|              1|        hidradenitis|           12|\n",
      "|PFIZER\\BIONTECH|              1|  c-reactive protein|          251|\n",
      "|PFIZER\\BIONTECH|              1|           mydriasis|          146|\n",
      "|PFIZER\\BIONTECH|              1|             culture|           54|\n",
      "|PFIZER\\BIONTECH|              1| heavy menstrual ...|          981|\n",
      "|PFIZER\\BIONTECH|              1|    morning sickness|            6|\n",
      "|PFIZER\\BIONTECH|              1|             culture|           14|\n",
      "|PFIZER\\BIONTECH|              1| pharyngeal infla...|           14|\n",
      "|PFIZER\\BIONTECH|              1|    immunodeficiency|           60|\n",
      "|PFIZER\\BIONTECH|              1| red blood cell c...|            1|\n",
      "|PFIZER\\BIONTECH|              1|        auscultation|           11|\n",
      "|PFIZER\\BIONTECH|              1| immune complex a...|            3|\n",
      "+---------------+---------------+--------------------+-------------+\n",
      "only showing top 20 rows\n",
      "\n"
     ]
    },
    {
     "name": "stderr",
     "output_type": "stream",
     "text": [
      "\r",
      "                                                                                \r"
     ]
    }
   ],
   "source": [
    "ades_df3.show()"
   ]
  },
  {
   "cell_type": "markdown",
   "id": "390abc82",
   "metadata": {},
   "source": [
    "https://stackoverflow.com/questions/38397796/retrieve-top-n-in-each-group-of-a-dataframe-in-pyspark"
   ]
  },
  {
   "cell_type": "code",
   "execution_count": 30,
   "id": "1f333fe3",
   "metadata": {},
   "outputs": [],
   "source": [
    "from pyspark.sql.window import Window"
   ]
  },
  {
   "cell_type": "code",
   "execution_count": 31,
   "id": "14991a02",
   "metadata": {},
   "outputs": [],
   "source": [
    "from pyspark.sql.functions import col, row_number"
   ]
  },
  {
   "cell_type": "code",
   "execution_count": 41,
   "id": "29ad6256",
   "metadata": {},
   "outputs": [],
   "source": [
    "column_list = [\"vax_manu\",\"vax_dose_series\"]\n",
    "windowDept = Window.partitionBy([col(x) for x in column_list]).orderBy(col('symptom_count').desc())"
   ]
  },
  {
   "cell_type": "code",
   "execution_count": 42,
   "id": "8bd176a4",
   "metadata": {},
   "outputs": [],
   "source": [
    "ades_df4 = ades_df3.withColumn(\"row\", row_number().over(windowDept)).filter(col(\"row\") <= 10)"
   ]
  },
  {
   "cell_type": "code",
   "execution_count": 43,
   "id": "b044567f",
   "metadata": {},
   "outputs": [
    {
     "name": "stderr",
     "output_type": "stream",
     "text": [
      "[Stage 76:==============================================>       (173 + 8) / 200]\r"
     ]
    },
    {
     "name": "stdout",
     "output_type": "stream",
     "text": [
      "+--------+---------------+--------------------+-------------+---+\n",
      "|vax_manu|vax_dose_series|    cleaned_symptoms|symptom_count|row|\n",
      "+--------+---------------+--------------------+-------------+---+\n",
      "| MODERNA|              3|expired product a...|         3622|  1|\n",
      "| MODERNA|              3|             pyrexia|         3118|  2|\n",
      "| MODERNA|              3|                pain|         2612|  3|\n",
      "| MODERNA|              3|            headache|         2592|  4|\n",
      "| MODERNA|              3|             fatigue|         2189|  5|\n",
      "| MODERNA|              3|           urticaria|         1918|  6|\n",
      "| MODERNA|              3|   pain in extremity|         1700|  7|\n",
      "| MODERNA|              3|              nausea|         1602|  8|\n",
      "| MODERNA|              3|            pruritus|         1559|  9|\n",
      "| MODERNA|              3|              chills|         1324| 10|\n",
      "| JANSSEN|              4| interchange of v...|            5|  1|\n",
      "| JANSSEN|              4|           dizziness|            4|  2|\n",
      "| JANSSEN|              4| extra dose admin...|            4|  3|\n",
      "| JANSSEN|              4|             syncope|            4|  4|\n",
      "| JANSSEN|              4| injection site pain|            2|  5|\n",
      "| JANSSEN|              4|              nausea|            2|  6|\n",
      "| JANSSEN|              4|                pain|            2|  7|\n",
      "| JANSSEN|              4|              tremor|            2|  8|\n",
      "| JANSSEN|              4| loss of consciou...|            2|  9|\n",
      "| JANSSEN|              4|            headache|            2| 10|\n",
      "+--------+---------------+--------------------+-------------+---+\n",
      "only showing top 20 rows\n",
      "\n"
     ]
    },
    {
     "name": "stderr",
     "output_type": "stream",
     "text": [
      "\r",
      "                                                                                \r"
     ]
    }
   ],
   "source": [
    "ades_df4.show()"
   ]
  },
  {
   "cell_type": "code",
   "execution_count": 44,
   "id": "fd4fe8d2",
   "metadata": {
    "scrolled": false
   },
   "outputs": [
    {
     "name": "stderr",
     "output_type": "stream",
     "text": [
      "                                                                                \r"
     ]
    },
    {
     "data": {
      "text/plain": [
       "230"
      ]
     },
     "execution_count": 44,
     "metadata": {},
     "output_type": "execute_result"
    }
   ],
   "source": [
    "#checking number of rows \n",
    "ades_df4.count()"
   ]
  },
  {
   "cell_type": "code",
   "execution_count": 45,
   "id": "9062a773",
   "metadata": {
    "scrolled": true
   },
   "outputs": [
    {
     "name": "stderr",
     "output_type": "stream",
     "text": [
      "                                                                                \r"
     ]
    },
    {
     "name": "stdout",
     "output_type": "stream",
     "text": [
      "+--------------------+---------------+--------------------+-------------+---+\n",
      "|            vax_manu|vax_dose_series|    cleaned_symptoms|symptom_count|row|\n",
      "+--------------------+---------------+--------------------+-------------+---+\n",
      "|             MODERNA|              3|expired product a...|         3622|  1|\n",
      "|             JANSSEN|              4| interchange of v...|            5|  1|\n",
      "|     PFIZER\\BIONTECH|             5+|extra dose admini...|           17|  1|\n",
      "|             JANSSEN|            UNK|             pyrexia|         5301|  1|\n",
      "|UNKNOWN MANUFACTURER|              3|            dyspnoea|            7|  1|\n",
      "|UNKNOWN MANUFACTURER|              1|            headache|          139|  1|\n",
      "|             MODERNA|              2|             pyrexia|        20446|  1|\n",
      "|             JANSSEN|              1|            headache|         8433|  1|\n",
      "|UNKNOWN MANUFACTURER|             5+| impaired work ab...|            1|  1|\n",
      "|             JANSSEN|             5+|            headache|           21|  1|\n",
      "|             MODERNA|              4|extra dose admini...|          166|  1|\n",
      "|     PFIZER\\BIONTECH|              1|            headache|        21858|  1|\n",
      "|     PFIZER\\BIONTECH|            UNK|            headache|         5713|  1|\n",
      "|             MODERNA|              1|            headache|        25356|  1|\n",
      "|     PFIZER\\BIONTECH|              3|             pyrexia|         3574|  1|\n",
      "|UNKNOWN MANUFACTURER|            UNK|             pyrexia|          119|  1|\n",
      "|     PFIZER\\BIONTECH|              2|             pyrexia|        21184|  1|\n",
      "|             MODERNA|             5+|expired product a...|           70|  1|\n",
      "|             JANSSEN|              2|            headache|          152|  1|\n",
      "|     PFIZER\\BIONTECH|              4|extra dose admini...|          196|  1|\n",
      "+--------------------+---------------+--------------------+-------------+---+\n",
      "only showing top 20 rows\n",
      "\n"
     ]
    }
   ],
   "source": [
    "ades_df4.filter('row = 1').show()"
   ]
  },
  {
   "cell_type": "code",
   "execution_count": 46,
   "id": "9fdcd1c3",
   "metadata": {},
   "outputs": [
    {
     "name": "stderr",
     "output_type": "stream",
     "text": [
      "                                                                                \r"
     ]
    }
   ],
   "source": [
    "#save! back to pandas since smaller now\n",
    "\n",
    "top_ades_df = ades_df4.toPandas()\n"
   ]
  },
  {
   "cell_type": "code",
   "execution_count": 47,
   "id": "1d38ef8d",
   "metadata": {},
   "outputs": [],
   "source": [
    "top_ades_df.to_csv('top_ades.csv')"
   ]
  },
  {
   "cell_type": "markdown",
   "id": "41451af8",
   "metadata": {},
   "source": [
    "Supplemental:"
   ]
  },
  {
   "cell_type": "code",
   "execution_count": null,
   "id": "1baf816f",
   "metadata": {},
   "outputs": [],
   "source": [
    "top_ade_df = spark.sql('''\n",
    "SELECT vax_manu, vax_dose_series, cleaned_symptoms\n",
    "FROM\n",
    "(SELECT *, ROW_NUMBER() OVER (PARTITION BY cleaned_symptoms ORDER BY symptom_count DESC) AS n \n",
    "FROM ade_counts) AS x\n",
    "WHERE n <= 10;\n",
    "''')"
   ]
  }
 ],
 "metadata": {
  "kernelspec": {
   "display_name": "Python 3",
   "language": "python",
   "name": "python3"
  },
  "language_info": {
   "codemirror_mode": {
    "name": "ipython",
    "version": 3
   },
   "file_extension": ".py",
   "mimetype": "text/x-python",
   "name": "python",
   "nbconvert_exporter": "python",
   "pygments_lexer": "ipython3",
   "version": "3.8.8"
  }
 },
 "nbformat": 4,
 "nbformat_minor": 5
}
